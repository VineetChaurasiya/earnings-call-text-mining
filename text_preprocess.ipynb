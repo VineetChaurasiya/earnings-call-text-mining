{
 "cells": [
  {
   "cell_type": "code",
   "execution_count": 36,
   "metadata": {},
   "outputs": [],
   "source": [
    "import os, sys\n",
    "import spacy"
   ]
  },
  {
   "cell_type": "code",
   "execution_count": 4,
   "metadata": {},
   "outputs": [
    {
     "data": {
      "text/plain": [
       "['(BHF).txt',\n",
       " '(BTU).txt',\n",
       " '(BXE).txt',\n",
       " '(CCFI).txt',\n",
       " '(CHC).txt',\n",
       " '(CLUB).txt',\n",
       " '(CVO).txt',\n",
       " '(CYH).txt',\n",
       " '(EVEP).txt',\n",
       " '(FE).txt',\n",
       " '(FELP).txt',\n",
       " '(FMSA).txt',\n",
       " '(FWM).txt',\n",
       " '(GST).txt',\n",
       " '(HERO).txt',\n",
       " '(I).txt',\n",
       " '(ICC).txt',\n",
       " '(ICON).txt',\n",
       " '(IHRT).txt',\n",
       " '(ISH).txt',\n",
       " '(LEGCY).txt',\n",
       " '(MFRM).txt',\n",
       " '(NES).txt',\n",
       " '(PKD).txt',\n",
       " '(PQ).txt',\n",
       " '(SFX).txt',\n",
       " '(SHLD).txt',\n",
       " '(WIN).txt',\n",
       " '(WLB).txt',\n",
       " '.ipynb_checkpoints',\n",
       " '._(BTU).txt',\n",
       " '._(CHC).txt',\n",
       " '._(CLUB).txt']"
      ]
     },
     "execution_count": 4,
     "metadata": {},
     "output_type": "execute_result"
    }
   ],
   "source": [
    "os.listdir('default/preprocess')"
   ]
  },
  {
   "cell_type": "code",
   "execution_count": 35,
   "metadata": {},
   "outputs": [],
   "source": [
    "STOP_WORDS = spacy.lang.en.stop_words.STOP_WORDS\n",
    "nlp = spacy.load('en_core_web_sm')\n",
    "def tokenize(text):\n",
    "    paragraphs = text.split('\\n')\n",
    "    processed_text = \"\"\n",
    "    for p in paragraphs:\n",
    "        processed = []\n",
    "        if len(p) < 15:\n",
    "            continue\n",
    "        doc = nlp(p)\n",
    "        for token in doc:\n",
    "            if not token.is_punct:\n",
    "                processed.append(token.lemma_)\n",
    "                processed_text += (token.lemma_ + \" \")"
   ]
  },
  {
   "cell_type": "code",
   "execution_count": 33,
   "metadata": {},
   "outputs": [
    {
     "data": {
      "text/plain": [
       "'during the first quarter -PRON- produce 6.1 Bcfe or approximately 68 million cubic foot of gas equivalent per day the 68 million cubic foot equivalent per day be comprise of approximately 51 million cubic foot of gas 1,100 barrel of oil and 1,700 barrel of ngl on January 31 2018 -PRON- sell -PRON- Gulf of Mexico property which contribute approximately 5 million cubic foot equivalent per day to the first quarter volume -PRON- production profile reduce result of the sale -PRON- do however eliminate approximately $ 35 million of an undiscounted abandonment liability from -PRON- long term obligation -PRON- expect to receive a refund of approximately $ 11 million in cash relate to a depository account that serve to collateralize a portion of -PRON- offshore bond once the buyer replace the bond or accept by the BOEM but -PRON- be unsure of the exact timing of this refund -PRON- expect this to occur during the next 60 day to 90 day once these fund have be receive -PRON- will contribute $ 3.75 million to the buyer for future abandonment cost with -PRON- Gulf of Mexico divestiture goal now accomplish -PRON- can focus -PRON- complete retention on -PRON- onshore Cotton Valley and Austin Chalk development program now turn to -PRON- operation where -PRON- continue to plan for -PRON- initial Austin Chalk well in Pointe Coupee Parish -PRON- be in a permit process in current plan call for -PRON- drilling program to commence during the third quarter of 2018 in addition -PRON- be monitor -PRON- other industry activity in this reemerge trend and be encourage by the fact at several new large cap company have establish significant leasehold position and be plan near term drilling program one of these company ConocoPhillips recently announce that -PRON- acquire over 200,000 acre and -PRON- be permit several exploratory well the company state during the first quarter conference call that -PRON- expect to start -PRON- drilling program late third quarter early fourth quarter with the increase interest in the trend -PRON- be consider various partnership that could provide additional liquidity or lower -PRON- future drilling capital lease evaluate -PRON- acreage position lastly quickly touch on East Texas -PRON- be continue to evaluate various joint venture structure in connection with -PRON- 2018 Cotton Valley drilling program since -PRON- be actively engage in proper discussion with various party -PRON- respectively request -PRON- refrain from ask question on this topic during -PRON- Q&A. with that -PRON- would like to turn -PRON- over to bond to go through -PRON- financial result all right thank Charlie as -PRON- be sure most of -PRON- see yesterday -PRON- begin trade on the OTC market under the ticker PQUE this move as a result of compliance action take by the New York Stock Exchange relative to -PRON- market cap cross below the $ 15 million requirement as some of -PRON- may remember over the last couple of year -PRON- have secure two other NYSE compliance notification and -PRON- be evaluate what option -PRON- may have on this particular issue look at CapEx for the quarter -PRON- invest about $ 4.5 million which be net of $ 2.3 million in proceed that -PRON- receive from the final buy in payment relative to -PRON- initial Cotton Valley joint venture the break out of capital for the quarter be approximately $ 2.7 million of direct CapEx and $ 1.8 million of capitalize overhead and interest the bulk of the CapEx during the quarter from a direct basis be attributable to the recompletion that -PRON- perform on -PRON- last two Cotton Valley well which -PRON- announce earlier in the first quarter with the exact restart timing of -PRON- East Texas drilling program currently unknown right now -PRON- be go to hold off on provide full year guidance at this time -PRON- do expect that over the second quarter that -PRON- CapEx would be flat or slightly down compare to the spending that -PRON- have during the first quarter once -PRON- know -PRON- plan -PRON- will be able to inform the market about -PRON- 2018 capital budget once all the work be finalize turn to expense for the first quarter LOE total about $ 7 million or $ 1.15 per Mcfe that be slightly above -PRON- guidance range due primarily to high than expect cost associate with -PRON- Gulf of Mexico property during the month of January regard down to $ 1.05 to $ 1.15 per Mcfe for the second quarter to account for that Gulf of Mexico divestiture as those property carry a high LOE burden relative to -PRON- exist onshore asset the sale expect to be very beneficial to -PRON- lift cost on a go forward basis G&A for the first quarter total $ 3.3 million which be slightly below -PRON- guidance range for the second quarter -PRON- be guide to $ 3.5 million to $ 3.9 million for G&A which include some limited non cash stock comp cost interest expense during the first quarter total $ 7.5 million which be within -PRON- range for the second quarter -PRON- be guide interest expense to $ 7.6 million to $ 7.8 million as many of -PRON- know in February -PRON- exercise the final PIK option under -PRON- 2021 PIK note and so the interest payment in August of 2008 will revert back to 10 cash finally on the hedging front -PRON- have 250 barrel per day hedge for 2018 at $ 55 per barrel after the exploration of -PRON- first quarter gas hedge -PRON- be currently unhedged on the gas side for the remainder of 2018 however -PRON- look for opportunity to build -PRON- gas book for 2018 and slightly beyond that as -PRON- get pass the current shoulder season and into the summer with that -PRON- will turn -PRON- back to Charlie to wrap up Charles Goodson thank -PRON- -PRON- have temporarily pass the drilling program -PRON- be an outstanding still -PRON- be currently actively engage in discussion with potential joint venture partner in Cotton Valley focus effort on reduce cost and improve efficiency in a finalizing the step necessary despite -PRON- initial Austin Chalk well in the third quarter precise the execution on all of these item be essentially rebuild -PRON- production profile and drive future value and for -PRON- team and be look forward to the back half of this year with that turn -PRON- back to Matt and -PRON- will open up for question yes Danielle -PRON- be ready to start the q&a. question and answer session -PRON- will now begin the question and answer session Operator Instructions the first question come from Ron Mills of Johnson Rice please go ahead good morning Charlie just on the Austin Chalk curio if -PRON- can provide an update with any other recent industry activity -PRON- know that Eagles Ranch well have be produce for quite a few month now just curio if -PRON- have be get any field report of how that flow back have be go relative to state datum and any new drilling activity or be the industry be in the process of permit lot of well Charles Goodson well regard the Eagles Ranch well -PRON- do be get some intel but since -PRON- be not release that information -PRON- would really to like to stay away from talk about -PRON- there be another well that be currently in early stage of flowback that be drill by BlackBrush -PRON- soon will start get some information fairly quick -PRON- think the fracs be complete last week and drill out and -PRON- be fly back now and there again -PRON- know that -PRON- be -PRON- talk to other people who be -PRON- have not formally announce plan but be work towards get well drill so -PRON- will look at there be go to be a very active 2019 and in the trend there will be certainly be thing that will start in the second half to the towards the more towards the end of the third quarter early fourth quarter of 2018 okay and can -PRON- provide a little color in term of what have happen from a leasing standpoint -PRON- know Conoco talk about -PRON- that -PRON- mention EOG have be more to the west of -PRON- with BlackBrush kind of to the north how be the leasing go relative as -PRON- look to the Eastern and Southeast and be -PRON- become a donut hole in some of the big company acreage Charles Goodson well as -PRON- move -PRON- be very positioned in point of where -PRON- there be a lot of control and lot of really good type of porosity well that -PRON- have see as that be the reason -PRON- focus in that area -PRON- have cross the river into West Louisiana and further to the East certainly -PRON- hear that certainly Conoco continue to be active the EOG and then there be another company that be not announce anything that -PRON- will refrain to discussion -PRON- be active in Livingston Parish so the trend continuous on further to the east and talk to people that be knowledgeable that -PRON- be actually people who be lease up into Wilkinson county Mississippi so -PRON- mean the size and scope with this thing be very large as -PRON- have talk about -PRON- have say south be a low productive self edge for specific reason but -PRON- be clearly other company several very large company that be lease north of that directly north of -PRON- and again that company have not announce anything so -PRON- be go to refrain to really talk about who -PRON- be but safe to say everybody out there be still well than -PRON- be and -PRON- ’ amazing to see how quick one well have really spurn this activity to this re embark trend -PRON- know -PRON- still set that same 24,000 gross acre position Charles Goodson okay great let -PRON- let someone else jump on thank -PRON- Charles Goodson the next question come from John Aschenbeck of Seaport Global please go ahead John Aschenbeck hey good morning and thank for take -PRON- question -PRON- first question here be just a follow up on Austin Chalk in term of -PRON- test here -PRON- think originally -PRON- guy have talk kind of loosely about the timing of that test be in the second quarter some time and now -PRON- sound like -PRON- ’ get push out just a little bit to the third quarter so -PRON- be hope -PRON- could possibly expand a little bit on that decision be -PRON- guy just simply wait for a little more time to perhaps get some more industry result or be there perhaps other factor drive that decision Charles Goodson no -PRON- be not wait on industry result -PRON- ’ really more focused on have to dissolve unit and then reestablish unit in the area tidal work thing like that these be maybe a high jump the gun little bit on that -PRON- be not really aware how much of this have to be do before -PRON- ’ be awhile since -PRON- have really be active in drill with a lot of Houston and thing like that and a trend like this in Louisiana and so -PRON- be certainly there be -PRON- would love to see other issue activity but -PRON- have now move on to where -PRON- know -PRON- project very well -PRON- have get pretty much all the information -PRON- be trade for some additional indiscernible information from -PRON- exist well -PRON- will be helpful but -PRON- really be comfortable with what -PRON- have see geologically geo physically engineer wise from well that be in and around where -PRON- drill and so -PRON- be really kind of on -PRON- own timeframe as oppose to wait on other John Aschenbeck okay get -PRON- that be helpful -PRON- appreciate that and then -PRON- second question be just a follow up on liquidity in general -PRON- seem like -PRON- guy have quite a few option here to potentially boost -PRON- position and Charlie and Bond -PRON- guy kind of -PRON- both hint at some of these in -PRON- prepare remark whether -PRON- be the BOEM refine or explore option for partnership in the Austin Chalk so -PRON- guess what -PRON- be try to really get a feel for be just kind of bring those all together and get a feel for -PRON- guy comfort around liquidity currently and then and with that the option -PRON- have to expand that position yes hey John this be Bond -PRON- mean certainly -PRON- have get the $ 20 million available in -PRON- term loan currently out there -PRON- have get as -PRON- talk about roughly net of what -PRON- have to pay to the buyer for the Gulf of Mexico asset just call -PRON- $ 8 million to $ 9 million of cash that -PRON- would expect to come in in the next 60 to 90 day although -PRON- will tell -PRON- be very uncertain as to the exact timing just because -PRON- be deal with a lot of government bureaucracy relative to get these bond release so that be sort of an uncertainty there and then obviously anything that -PRON- be able to bring forward relative to a joint venture not only on the Chalk but also in the Cotton Valley could provide some upfront capital and a disproportionate cost sharing arrangement which would be favorable for get well drill so those be kind of the pillar of the liquidity position that -PRON- have today do -PRON- have any follow up on that John Aschenbeck no no that be that be exactly what -PRON- be look for Bond -PRON- appreciate the detail and that be -PRON- for -PRON- all right John the next question come from Richard Tullis of Capital One Securities please go ahead hey thank good morning Charlie when -PRON- look at that first Austin Chalk well what be -PRON- well cost expectation for that when give the current environment and say on a go forward basis what could -PRON- get well cost down to use the same current environment Charles Goodson well -PRON- think -PRON- be look at probably somewhere in the range of $ 9 million to $ 10 million -PRON- be probably not go to meet the core of the well because of access to other downhaul information and then once -PRON- have that first well down drill -PRON- feel like -PRON- can bring this cost down to let -PRON- just say $ 7.5 million and so with that -PRON- be very comfortable that the economic of this trend will work very well assume success there what sort of pace do -PRON- think -PRON- may go at over the subsequent say six nine 12 month on a drilling basis in the Austin Chalk Charles Goodson well -PRON- think -PRON- have see how -PRON- have approach these resource play whether -PRON- in the Cotton Valley or in the Woodford early along the first 10 well or so -PRON- certainly want to learn a lot and so -PRON- would say -PRON- drill the first well and -PRON- let -PRON- produce for probably four to six month to see what the decline rate be in -PRON- first project area -PRON- be net to -PRON- around 7,500 acre so there be room there for 20 to 40 well which in and -PRON- be significant development program where these tend to cross yet on the other side -PRON- provide a huge amount of production so -PRON- be start to look at what ’ -PRON- long term production rate what ’ -PRON- long term salt water rate and just takeaway thing like that -PRON- would say at a minimum drill the first well complete -PRON- and then basically try to focus on start the second well within six month thank -PRON- that ’ helpful and just lastly for -PRON- Charlie look at the exist DrillCo JV in the Cotton Valley what remain commitment be there relate to that Charles Goodson well -PRON- basically when -PRON- get into that -PRON- think -PRON- have like 6,500 acre for that partner in 47 location -PRON- have now -PRON- be up to close to 9,000 acre with -PRON- partner in 47 location if -PRON- back nine out of that let -PRON- be 39 but -PRON- have increase that location count across the success of those well in 92 location so those partner in PetroQuest together have approximately 92 well to drill on that joint venture acreage at this point in time okay thank so much appreciate -PRON- Charles Goodson thanks Richard the next question come from Anthony Marchese ph please go ahead Unidentified Analyst hi good morning guy thank for take the question be there anything that would prevent at this point insider from buy stock in the open market -PRON- mean the stock be trade obviously at a 52-week well $ 14 million market cap -PRON- would certainly send a vote of confidence of the market if -PRON- see something in the way of insider buying -PRON- will take that question that ’ an obvious question people always tend to ask unfortunately when -PRON- be on this side of the table there be a lot of thing -PRON- know and -PRON- ’ always very difficult to do that over the year -PRON- have buy a lot of stock in this company and -PRON- ’ a but that ’ an individual decision that -PRON- as investor have to make -PRON- have a lot of concentration so -PRON- think that ’ really more of an individual decision to make as oppose to try to go out and make a statement in the market so -PRON- think that ’ why -PRON- be sure Unidentified Analyst all right thank -PRON- and -PRON- have a follow up question of Ron Mills of Johnson Rice Charlie do -PRON- in -PRON- response to Richard talk about have 7,500 net acre off of the 24000 25000 gross or be that just in the direct vicinity of where -PRON- be go to drove -PRON- first well Charles Goodson yes that ’ in the first project area -PRON- have four project area that each be net to -PRON- somewhere around 6,000 to 8,000 acre so each of those area -PRON- look at as 20 to 40 and maybe more well to drill where -PRON- can operate and control the density so first -PRON- be go to -PRON- be plan on drilling or at least -PRON- be target right now be around that 7,500 acre and -PRON- be look at unit size of around 1,600 to 1,800 acre and with multiple well in those unit so -PRON- ’ obviously that -PRON- be a very large project for PetroQuest and obviously -PRON- be very excited about -PRON- and so be -PRON- still at plus or minus that 24,000 25,000 acre have -PRON- build -PRON- -PRON- mean -PRON- be just try to get a sense as to what ’ happen with of course the past three month Charles Goodson that ’ where -PRON- be right now -PRON- basically have the ability to pick up through trade and through additional cleanup operation still more acreage out there but at this point in time these be relatively short term lease three year for the kicker or four year and so there ’ not really a large desire to plan a lot more capital in this when -PRON- have to so -PRON- think that -PRON- will as -PRON- have say control -PRON- density in those four area and that ’ goal number one for -PRON- right now '"
      ]
     },
     "execution_count": 33,
     "metadata": {},
     "output_type": "execute_result"
    }
   ],
   "source": []
  },
  {
   "cell_type": "code",
   "execution_count": null,
   "metadata": {},
   "outputs": [],
   "source": []
  }
 ],
 "metadata": {
  "kernelspec": {
   "display_name": "Python 3",
   "language": "python",
   "name": "python3"
  },
  "language_info": {
   "codemirror_mode": {
    "name": "ipython",
    "version": 3
   },
   "file_extension": ".py",
   "mimetype": "text/x-python",
   "name": "python",
   "nbconvert_exporter": "python",
   "pygments_lexer": "ipython3",
   "version": "3.7.4"
  }
 },
 "nbformat": 4,
 "nbformat_minor": 2
}
